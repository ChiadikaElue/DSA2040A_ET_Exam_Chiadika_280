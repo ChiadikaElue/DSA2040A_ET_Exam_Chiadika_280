{
 "cells": [
  {
   "cell_type": "code",
   "execution_count": 33,
   "id": "8bd77860",
   "metadata": {},
   "outputs": [],
   "source": [
    "import pandas as pd\n",
    "import numpy as np\n",
    "from datetime import datetime\n",
    "import warnings\n",
    "warnings.filterwarnings('ignore')\n"
   ]
  },
  {
   "cell_type": "code",
   "execution_count": 34,
   "id": "4cbd8def",
   "metadata": {},
   "outputs": [
    {
     "name": "stdout",
     "output_type": "stream",
     "text": [
      "Loading validated datasets...\n",
      "Full data shape: (3, 7)\n",
      "Incremental data shape: (2, 7)\n"
     ]
    }
   ],
   "source": [
    "# Load validated datasets\n",
    "print(\"Loading validated datasets...\")\n",
    "from pathlib import Path\n",
    "data_dir = Path('data')\n",
    "validated_combined = data_dir / 'validated_combined.csv'\n",
    "validated_incremental = data_dir / 'validated_incremental.csv'\n",
    "\n",
    "def _ensure_validated_files():\n",
    "    # If validated files exist, nothing to do\n",
    "    if validated_combined.exists() and validated_incremental.exists():\n",
    "        return\n",
    "    print(\"One or more validated files missing — attempting to rebuild from raw/incremental sources\")\n",
    "    # Try to load existing incremental or raw sources\n",
    "    possible_raw = [Path(r'C:/Users/cselue/Desktop/git/raw_data.csv'), Path(r'C:/Users/cselue/Desktop/git/raw_data.cv'), Path('data/raw_data.csv'), Path('raw_data.csv'), Path('raw_data.cv')]\n",
    "    raw_path = next((p for p in possible_raw if p.exists()), None)\n",
    "    incr_path = Path('data/incremental_data.csv') if Path('data/incremental_data.csv').exists() else None\n",
    "    if raw_path is None and incr_path is None:\n",
    "        raise FileNotFoundError('No raw or incremental sources found to rebuild validated data. Please place raw_data.csv or incremental_data.csv in expected locations.')\n",
    "    # Load raw if available\n",
    "    if raw_path is not None:\n",
    "        ext = raw_path.suffix.lower()\n",
    "        if ext in ['.csv', '.cv']:\n",
    "            raw_df = pd.read_csv(raw_path, encoding='unicode_escape', parse_dates=['InvoiceDate'], dayfirst=True)\n",
    "        else:\n",
    "            raise ValueError(f'Unsupported raw file extension: {ext}')\n",
    "    else:\n",
    "        raw_df = None\n",
    "    # Load incremental if available else create from raw\n",
    "    if incr_path is not None:\n",
    "        incr_df = pd.read_csv(incr_path, encoding='unicode_escape', parse_dates=['InvoiceDate'], dayfirst=True)\n",
    "    else:\n",
    "        incr_df = raw_df[raw_df['InvoiceDate'] >= '2011-11-01']\n",
    "        data_dir.mkdir(parents=True, exist_ok=True)\n",
    "        incr_df.to_csv(incr_path, index=False)\n",
    "    # Create validated combined by concatenating and dropping duplicates\n",
    "    combined = pd.concat([raw_df, incr_df], ignore_index=True).drop_duplicates() if raw_df is not None else incr_df.drop_duplicates()\n",
    "    data_dir.mkdir(parents=True, exist_ok=True)\n",
    "    combined.to_csv(validated_combined, index=False)\n",
    "    incr_df.to_csv(validated_incremental, index=False)\n",
    "    print('Rebuilt validated files: data/validated_combined.csv and data/validated_incremental.csv')\n",
    "\n",
    "# ensure validated files exist\n",
    "_ensure_validated_files()\n",
    "\n",
    "# load files\n",
    "full_data = pd.read_csv(validated_combined, encoding='unicode_escape')\n",
    "incremental_data = pd.read_csv(validated_incremental, encoding='unicode_escape')\n",
    "\n",
    "print(f\"Full data shape: {full_data.shape}\")\n",
    "print(f\"Incremental data shape: {incremental_data.shape}\")"
   ]
  },
  {
   "cell_type": "code",
   "execution_count": 35,
   "id": "da3eb664",
   "metadata": {},
   "outputs": [
    {
     "name": "stdout",
     "output_type": "stream",
     "text": [
      "Original Data Sample\n"
     ]
    },
    {
     "data": {
      "text/html": [
       "<div>\n",
       "<style scoped>\n",
       "    .dataframe tbody tr th:only-of-type {\n",
       "        vertical-align: middle;\n",
       "    }\n",
       "\n",
       "    .dataframe tbody tr th {\n",
       "        vertical-align: top;\n",
       "    }\n",
       "\n",
       "    .dataframe thead th {\n",
       "        text-align: right;\n",
       "    }\n",
       "</style>\n",
       "<table border=\"1\" class=\"dataframe\">\n",
       "  <thead>\n",
       "    <tr style=\"text-align: right;\">\n",
       "      <th></th>\n",
       "      <th>InvoiceNo</th>\n",
       "      <th>InvoiceDate</th>\n",
       "      <th>Quantity</th>\n",
       "      <th>UnitPrice</th>\n",
       "      <th>CustomerID</th>\n",
       "      <th>Description</th>\n",
       "      <th>Country</th>\n",
       "    </tr>\n",
       "  </thead>\n",
       "  <tbody>\n",
       "    <tr>\n",
       "      <th>0</th>\n",
       "      <td>1001</td>\n",
       "      <td>2011-10-31</td>\n",
       "      <td>1</td>\n",
       "      <td>10.0</td>\n",
       "      <td>12345</td>\n",
       "      <td>Widget A</td>\n",
       "      <td>United Kingdom</td>\n",
       "    </tr>\n",
       "    <tr>\n",
       "      <th>1</th>\n",
       "      <td>1002</td>\n",
       "      <td>2011-11-05</td>\n",
       "      <td>2</td>\n",
       "      <td>20.0</td>\n",
       "      <td>23456</td>\n",
       "      <td>Widget B</td>\n",
       "      <td>United Kingdom</td>\n",
       "    </tr>\n",
       "    <tr>\n",
       "      <th>2</th>\n",
       "      <td>1003</td>\n",
       "      <td>2011-11-20</td>\n",
       "      <td>1</td>\n",
       "      <td>30.0</td>\n",
       "      <td>34567</td>\n",
       "      <td>Widget C</td>\n",
       "      <td>United Kingdom</td>\n",
       "    </tr>\n",
       "  </tbody>\n",
       "</table>\n",
       "</div>"
      ],
      "text/plain": [
       "   InvoiceNo InvoiceDate  Quantity  UnitPrice  CustomerID Description  \\\n",
       "0       1001  2011-10-31         1       10.0       12345    Widget A   \n",
       "1       1002  2011-11-05         2       20.0       23456    Widget B   \n",
       "2       1003  2011-11-20         1       30.0       34567    Widget C   \n",
       "\n",
       "          Country  \n",
       "0  United Kingdom  \n",
       "1  United Kingdom  \n",
       "2  United Kingdom  "
      ]
     },
     "metadata": {},
     "output_type": "display_data"
    },
    {
     "name": "stdout",
     "output_type": "stream",
     "text": [
      "\n",
      "Original data types:\n",
      "InvoiceNo        int64\n",
      "InvoiceDate     object\n",
      "Quantity         int64\n",
      "UnitPrice      float64\n",
      "CustomerID       int64\n",
      "Description     object\n",
      "Country         object\n",
      "dtype: object\n"
     ]
    }
   ],
   "source": [
    "# Display original data sample\n",
    "print(\"Original Data Sample\")\n",
    "display(full_data.head(3))\n",
    "print(\"\\nOriginal data types:\")\n",
    "print(full_data.dtypes)\n"
   ]
  },
  {
   "cell_type": "code",
   "execution_count": 36,
   "id": "94b4b8ed",
   "metadata": {},
   "outputs": [
    {
     "name": "stdout",
     "output_type": "stream",
     "text": [
      "Handling Missing Values\n",
      "Before transformation - Missing values:\n",
      "InvoiceNo      0\n",
      "InvoiceDate    0\n",
      "Quantity       0\n",
      "UnitPrice      0\n",
      "CustomerID     0\n",
      "Description    0\n",
      "Country        0\n",
      "dtype: int64\n"
     ]
    }
   ],
   "source": [
    "# Handle Missing Values\n",
    "print(\"Handling Missing Values\")\n",
    "print(\"Before transformation - Missing values:\")\n",
    "print(full_data.isnull().sum())\n"
   ]
  },
  {
   "cell_type": "code",
   "execution_count": 37,
   "id": "b8cf722f",
   "metadata": {},
   "outputs": [
    {
     "name": "stdout",
     "output_type": "stream",
     "text": [
      "Removing Duplicates\n",
      "Duplicates removed: 0\n"
     ]
    }
   ],
   "source": [
    "#Remove Duplicates \n",
    "print(\"Removing Duplicates\")\n",
    "initial_count = len(full_data)\n",
    "full_data = full_data.drop_duplicates()\n",
    "final_count = len(full_data)\n",
    "print(f\"Duplicates removed: {initial_count - final_count}\")\n"
   ]
  },
  {
   "cell_type": "code",
   "execution_count": 38,
   "id": "29974f90",
   "metadata": {},
   "outputs": [
    {
     "name": "stdout",
     "output_type": "stream",
     "text": [
      "Standardizing Data Types\n",
      "Before - Data types:\n",
      "InvoiceDate     object\n",
      "CustomerID       int64\n",
      "Quantity         int64\n",
      "UnitPrice      float64\n",
      "dtype: object\n"
     ]
    }
   ],
   "source": [
    "# Standardize Data Types\n",
    "print(\"Standardizing Data Types\")\n",
    "print(\"Before - Data types:\")\n",
    "print(full_data[['InvoiceDate', 'CustomerID', 'Quantity', 'UnitPrice']].dtypes)"
   ]
  },
  {
   "cell_type": "code",
   "execution_count": 39,
   "id": "389228c2",
   "metadata": {},
   "outputs": [
    {
     "name": "stdout",
     "output_type": "stream",
     "text": [
      "\n",
      "After - Data types:\n",
      "InvoiceDate    datetime64[ns]\n",
      "CustomerID             object\n",
      "Quantity                int64\n",
      "UnitPrice             float64\n",
      "dtype: object\n"
     ]
    }
   ],
   "source": [
    "# Convert InvoiceDate to datetime\n",
    "full_data['InvoiceDate'] = pd.to_datetime(full_data['InvoiceDate'])\n",
    "incremental_data['InvoiceDate'] = pd.to_datetime(incremental_data['InvoiceDate'])\n",
    "\n",
    "# Convert CustomerID to string (for those that are not 'Unknown')\n",
    "full_data['CustomerID'] = full_data['CustomerID'].astype(str)\n",
    "incremental_data['CustomerID'] = incremental_data['CustomerID'].astype(str)\n",
    "\n",
    "# Ensure numeric columns are proper type\n",
    "full_data['Quantity'] = pd.to_numeric(full_data['Quantity'], errors='coerce')\n",
    "full_data['UnitPrice'] = pd.to_numeric(full_data['UnitPrice'], errors='coerce')\n",
    "\n",
    "print(\"\\nAfter - Data types:\")\n",
    "print(full_data[['InvoiceDate', 'CustomerID', 'Quantity', 'UnitPrice']].dtypes)"
   ]
  },
  {
   "cell_type": "code",
   "execution_count": 40,
   "id": "a49de7f7",
   "metadata": {},
   "outputs": [
    {
     "name": "stdout",
     "output_type": "stream",
     "text": [
      "Adding Derived Columns\n",
      "New columns added: TotalAmount, Year, Month, DayOfWeek, Hour\n"
     ]
    },
    {
     "data": {
      "text/html": [
       "<div>\n",
       "<style scoped>\n",
       "    .dataframe tbody tr th:only-of-type {\n",
       "        vertical-align: middle;\n",
       "    }\n",
       "\n",
       "    .dataframe tbody tr th {\n",
       "        vertical-align: top;\n",
       "    }\n",
       "\n",
       "    .dataframe thead th {\n",
       "        text-align: right;\n",
       "    }\n",
       "</style>\n",
       "<table border=\"1\" class=\"dataframe\">\n",
       "  <thead>\n",
       "    <tr style=\"text-align: right;\">\n",
       "      <th></th>\n",
       "      <th>InvoiceDate</th>\n",
       "      <th>Quantity</th>\n",
       "      <th>UnitPrice</th>\n",
       "      <th>TotalAmount</th>\n",
       "      <th>Year</th>\n",
       "      <th>Month</th>\n",
       "      <th>DayOfWeek</th>\n",
       "    </tr>\n",
       "  </thead>\n",
       "  <tbody>\n",
       "    <tr>\n",
       "      <th>0</th>\n",
       "      <td>2011-10-31</td>\n",
       "      <td>1</td>\n",
       "      <td>10.0</td>\n",
       "      <td>10.0</td>\n",
       "      <td>2011</td>\n",
       "      <td>10</td>\n",
       "      <td>Monday</td>\n",
       "    </tr>\n",
       "    <tr>\n",
       "      <th>1</th>\n",
       "      <td>2011-11-05</td>\n",
       "      <td>2</td>\n",
       "      <td>20.0</td>\n",
       "      <td>40.0</td>\n",
       "      <td>2011</td>\n",
       "      <td>11</td>\n",
       "      <td>Saturday</td>\n",
       "    </tr>\n",
       "    <tr>\n",
       "      <th>2</th>\n",
       "      <td>2011-11-20</td>\n",
       "      <td>1</td>\n",
       "      <td>30.0</td>\n",
       "      <td>30.0</td>\n",
       "      <td>2011</td>\n",
       "      <td>11</td>\n",
       "      <td>Sunday</td>\n",
       "    </tr>\n",
       "  </tbody>\n",
       "</table>\n",
       "</div>"
      ],
      "text/plain": [
       "  InvoiceDate  Quantity  UnitPrice  TotalAmount  Year  Month DayOfWeek\n",
       "0  2011-10-31         1       10.0         10.0  2011     10    Monday\n",
       "1  2011-11-05         2       20.0         40.0  2011     11  Saturday\n",
       "2  2011-11-20         1       30.0         30.0  2011     11    Sunday"
      ]
     },
     "metadata": {},
     "output_type": "display_data"
    }
   ],
   "source": [
    "# Data Enrichment - Add Derived Columns \n",
    "print(\"Adding Derived Columns\")\n",
    "\n",
    "# Calculate Total Amount\n",
    "full_data['TotalAmount'] = full_data['Quantity'] * full_data['UnitPrice']\n",
    "incremental_data['TotalAmount'] = incremental_data['Quantity'] * incremental_data['UnitPrice']\n",
    "\n",
    "# Extract date components\n",
    "full_data['Year'] = full_data['InvoiceDate'].dt.year\n",
    "full_data['Month'] = full_data['InvoiceDate'].dt.month\n",
    "full_data['DayOfWeek'] = full_data['InvoiceDate'].dt.day_name()\n",
    "full_data['Hour'] = full_data['InvoiceDate'].dt.hour\n",
    "\n",
    "# Add similar for incremental data\n",
    "incremental_data['Year'] = incremental_data['InvoiceDate'].dt.year\n",
    "incremental_data['Month'] = incremental_data['InvoiceDate'].dt.month\n",
    "incremental_data['DayOfWeek'] = incremental_data['InvoiceDate'].dt.day_name()\n",
    "incremental_data['Hour'] = incremental_data['InvoiceDate'].dt.hour\n",
    "\n",
    "print(\"New columns added: TotalAmount, Year, Month, DayOfWeek, Hour\")\n",
    "display(full_data[['InvoiceDate', 'Quantity', 'UnitPrice', 'TotalAmount', 'Year', 'Month', 'DayOfWeek']].head())"
   ]
  },
  {
   "cell_type": "code",
   "execution_count": 41,
   "id": "c2745921",
   "metadata": {},
   "outputs": [
    {
     "name": "stdout",
     "output_type": "stream",
     "text": [
      "Creating Sales Brackets\n",
      "Sales brackets distribution:\n",
      "SalesBracket\n",
      "Medium (£11-£50)    2\n",
      "Small (≤£10)        1\n",
      "Name: count, dtype: int64\n"
     ]
    }
   ],
   "source": [
    "# Create Sales Brackets \n",
    "print(\"Creating Sales Brackets\")\n",
    "\n",
    "def categorize_sales(amount):\n",
    "    if amount <= 0:\n",
    "        return 'Zero/Negative'\n",
    "    elif amount <= 10:\n",
    "        return 'Small (≤£10)'\n",
    "    elif amount <= 50:\n",
    "        return 'Medium (£11-£50)'\n",
    "    elif amount <= 100:\n",
    "        return 'Large (£51-£100)'\n",
    "    else:\n",
    "        return 'Very Large (>£100)'\n",
    "\n",
    "full_data['SalesBracket'] = full_data['TotalAmount'].apply(categorize_sales)\n",
    "incremental_data['SalesBracket'] = incremental_data['TotalAmount'].apply(categorize_sales)\n",
    "\n",
    "print(\"Sales brackets distribution:\")\n",
    "print(full_data['SalesBracket'].value_counts())\n"
   ]
  },
  {
   "cell_type": "code",
   "execution_count": 42,
   "id": "a8c367b5",
   "metadata": {},
   "outputs": [
    {
     "name": "stdout",
     "output_type": "stream",
     "text": [
      "Filtering Invalid Records\n",
      "Records removed: 0\n",
      "Remaining valid records: 3\n"
     ]
    }
   ],
   "source": [
    "# Filtering - Remove Invalid Records \n",
    "print(\"Filtering Invalid Records\")\n",
    "initial_count = len(full_data)\n",
    "\n",
    "# Remove records with negative quantities (cancellations) for this analysis\n",
    "full_data = full_data[full_data['Quantity'] > 0]\n",
    "incremental_data = incremental_data[incremental_data['Quantity'] > 0]\n",
    "\n",
    "# Remove records with zero or negative unit prices\n",
    "full_data = full_data[full_data['UnitPrice'] > 0]\n",
    "incremental_data = incremental_data[incremental_data['UnitPrice'] > 0]\n",
    "\n",
    "final_count = len(full_data)\n",
    "print(f\"Records removed: {initial_count - final_count}\")\n",
    "print(f\"Remaining valid records: {final_count}\")"
   ]
  },
  {
   "cell_type": "code",
   "execution_count": 43,
   "id": "ffefabe3",
   "metadata": {},
   "outputs": [
    {
     "name": "stdout",
     "output_type": "stream",
     "text": [
      "Standardizing Text Data\n",
      "Sample of cleaned descriptions:\n",
      "0    Widget A\n",
      "1    Widget B\n",
      "2    Widget C\n",
      "Name: Description, dtype: object\n"
     ]
    }
   ],
   "source": [
    "# Standardization - Clean Text Data \n",
    "print(\"Standardizing Text Data\")\n",
    "\n",
    "# Clean description text\n",
    "full_data['Description'] = full_data['Description'].str.strip().str.title()\n",
    "incremental_data['Description'] = incremental_data['Description'].str.strip().str.title()\n",
    "\n",
    "# Standardize country names\n",
    "full_data['Country'] = full_data['Country'].str.strip().str.title()\n",
    "incremental_data['Country'] = incremental_data['Country'].str.strip().str.title()\n",
    "\n",
    "print(\"Sample of cleaned descriptions:\")\n",
    "print(full_data['Description'].head())"
   ]
  },
  {
   "cell_type": "code",
   "execution_count": 44,
   "id": "c307d6b0",
   "metadata": {},
   "outputs": [
    {
     "name": "stdout",
     "output_type": "stream",
     "text": [
      "Final Transformed Data Sample and Summary\n",
      "Sample of transformed data:\n"
     ]
    },
    {
     "data": {
      "text/html": [
       "<div>\n",
       "<style scoped>\n",
       "    .dataframe tbody tr th:only-of-type {\n",
       "        vertical-align: middle;\n",
       "    }\n",
       "\n",
       "    .dataframe tbody tr th {\n",
       "        vertical-align: top;\n",
       "    }\n",
       "\n",
       "    .dataframe thead th {\n",
       "        text-align: right;\n",
       "    }\n",
       "</style>\n",
       "<table border=\"1\" class=\"dataframe\">\n",
       "  <thead>\n",
       "    <tr style=\"text-align: right;\">\n",
       "      <th></th>\n",
       "      <th>InvoiceNo</th>\n",
       "      <th>InvoiceDate</th>\n",
       "      <th>Quantity</th>\n",
       "      <th>UnitPrice</th>\n",
       "      <th>CustomerID</th>\n",
       "      <th>Description</th>\n",
       "      <th>Country</th>\n",
       "      <th>TotalAmount</th>\n",
       "      <th>Year</th>\n",
       "      <th>Month</th>\n",
       "      <th>DayOfWeek</th>\n",
       "      <th>Hour</th>\n",
       "      <th>SalesBracket</th>\n",
       "    </tr>\n",
       "  </thead>\n",
       "  <tbody>\n",
       "    <tr>\n",
       "      <th>0</th>\n",
       "      <td>1001</td>\n",
       "      <td>2011-10-31</td>\n",
       "      <td>1</td>\n",
       "      <td>10.0</td>\n",
       "      <td>12345</td>\n",
       "      <td>Widget A</td>\n",
       "      <td>United Kingdom</td>\n",
       "      <td>10.0</td>\n",
       "      <td>2011</td>\n",
       "      <td>10</td>\n",
       "      <td>Monday</td>\n",
       "      <td>0</td>\n",
       "      <td>Small (≤£10)</td>\n",
       "    </tr>\n",
       "    <tr>\n",
       "      <th>1</th>\n",
       "      <td>1002</td>\n",
       "      <td>2011-11-05</td>\n",
       "      <td>2</td>\n",
       "      <td>20.0</td>\n",
       "      <td>23456</td>\n",
       "      <td>Widget B</td>\n",
       "      <td>United Kingdom</td>\n",
       "      <td>40.0</td>\n",
       "      <td>2011</td>\n",
       "      <td>11</td>\n",
       "      <td>Saturday</td>\n",
       "      <td>0</td>\n",
       "      <td>Medium (£11-£50)</td>\n",
       "    </tr>\n",
       "    <tr>\n",
       "      <th>2</th>\n",
       "      <td>1003</td>\n",
       "      <td>2011-11-20</td>\n",
       "      <td>1</td>\n",
       "      <td>30.0</td>\n",
       "      <td>34567</td>\n",
       "      <td>Widget C</td>\n",
       "      <td>United Kingdom</td>\n",
       "      <td>30.0</td>\n",
       "      <td>2011</td>\n",
       "      <td>11</td>\n",
       "      <td>Sunday</td>\n",
       "      <td>0</td>\n",
       "      <td>Medium (£11-£50)</td>\n",
       "    </tr>\n",
       "  </tbody>\n",
       "</table>\n",
       "</div>"
      ],
      "text/plain": [
       "   InvoiceNo InvoiceDate  Quantity  UnitPrice CustomerID Description  \\\n",
       "0       1001  2011-10-31         1       10.0      12345    Widget A   \n",
       "1       1002  2011-11-05         2       20.0      23456    Widget B   \n",
       "2       1003  2011-11-20         1       30.0      34567    Widget C   \n",
       "\n",
       "          Country  TotalAmount  Year  Month DayOfWeek  Hour      SalesBracket  \n",
       "0  United Kingdom         10.0  2011     10    Monday     0      Small (≤£10)  \n",
       "1  United Kingdom         40.0  2011     11  Saturday     0  Medium (£11-£50)  \n",
       "2  United Kingdom         30.0  2011     11    Sunday     0  Medium (£11-£50)  "
      ]
     },
     "metadata": {},
     "output_type": "display_data"
    },
    {
     "name": "stdout",
     "output_type": "stream",
     "text": [
      "\n",
      "Transformed data info:\n",
      "<class 'pandas.core.frame.DataFrame'>\n",
      "RangeIndex: 3 entries, 0 to 2\n",
      "Data columns (total 13 columns):\n",
      " #   Column        Non-Null Count  Dtype         \n",
      "---  ------        --------------  -----         \n",
      " 0   InvoiceNo     3 non-null      int64         \n",
      " 1   InvoiceDate   3 non-null      datetime64[ns]\n",
      " 2   Quantity      3 non-null      int64         \n",
      " 3   UnitPrice     3 non-null      float64       \n",
      " 4   CustomerID    3 non-null      object        \n",
      " 5   Description   3 non-null      object        \n",
      " 6   Country       3 non-null      object        \n",
      " 7   TotalAmount   3 non-null      float64       \n",
      " 8   Year          3 non-null      int32         \n",
      " 9   Month         3 non-null      int32         \n",
      " 10  DayOfWeek     3 non-null      object        \n",
      " 11  Hour          3 non-null      int32         \n",
      " 12  SalesBracket  3 non-null      object        \n",
      "dtypes: datetime64[ns](1), float64(2), int32(3), int64(2), object(5)\n",
      "memory usage: 408.0+ bytes\n",
      "\n",
      "Summary statistics for numeric columns:\n"
     ]
    },
    {
     "data": {
      "text/html": [
       "<div>\n",
       "<style scoped>\n",
       "    .dataframe tbody tr th:only-of-type {\n",
       "        vertical-align: middle;\n",
       "    }\n",
       "\n",
       "    .dataframe tbody tr th {\n",
       "        vertical-align: top;\n",
       "    }\n",
       "\n",
       "    .dataframe thead th {\n",
       "        text-align: right;\n",
       "    }\n",
       "</style>\n",
       "<table border=\"1\" class=\"dataframe\">\n",
       "  <thead>\n",
       "    <tr style=\"text-align: right;\">\n",
       "      <th></th>\n",
       "      <th>Quantity</th>\n",
       "      <th>UnitPrice</th>\n",
       "      <th>TotalAmount</th>\n",
       "    </tr>\n",
       "  </thead>\n",
       "  <tbody>\n",
       "    <tr>\n",
       "      <th>count</th>\n",
       "      <td>3.000000</td>\n",
       "      <td>3.0</td>\n",
       "      <td>3.000000</td>\n",
       "    </tr>\n",
       "    <tr>\n",
       "      <th>mean</th>\n",
       "      <td>1.333333</td>\n",
       "      <td>20.0</td>\n",
       "      <td>26.666667</td>\n",
       "    </tr>\n",
       "    <tr>\n",
       "      <th>std</th>\n",
       "      <td>0.577350</td>\n",
       "      <td>10.0</td>\n",
       "      <td>15.275252</td>\n",
       "    </tr>\n",
       "    <tr>\n",
       "      <th>min</th>\n",
       "      <td>1.000000</td>\n",
       "      <td>10.0</td>\n",
       "      <td>10.000000</td>\n",
       "    </tr>\n",
       "    <tr>\n",
       "      <th>25%</th>\n",
       "      <td>1.000000</td>\n",
       "      <td>15.0</td>\n",
       "      <td>20.000000</td>\n",
       "    </tr>\n",
       "    <tr>\n",
       "      <th>50%</th>\n",
       "      <td>1.000000</td>\n",
       "      <td>20.0</td>\n",
       "      <td>30.000000</td>\n",
       "    </tr>\n",
       "    <tr>\n",
       "      <th>75%</th>\n",
       "      <td>1.500000</td>\n",
       "      <td>25.0</td>\n",
       "      <td>35.000000</td>\n",
       "    </tr>\n",
       "    <tr>\n",
       "      <th>max</th>\n",
       "      <td>2.000000</td>\n",
       "      <td>30.0</td>\n",
       "      <td>40.000000</td>\n",
       "    </tr>\n",
       "  </tbody>\n",
       "</table>\n",
       "</div>"
      ],
      "text/plain": [
       "       Quantity  UnitPrice  TotalAmount\n",
       "count  3.000000        3.0     3.000000\n",
       "mean   1.333333       20.0    26.666667\n",
       "std    0.577350       10.0    15.275252\n",
       "min    1.000000       10.0    10.000000\n",
       "25%    1.000000       15.0    20.000000\n",
       "50%    1.000000       20.0    30.000000\n",
       "75%    1.500000       25.0    35.000000\n",
       "max    2.000000       30.0    40.000000"
      ]
     },
     "metadata": {},
     "output_type": "display_data"
    }
   ],
   "source": [
    "# Display final transformed data\n",
    "print(\"Final Transformed Data Sample and Summary\")\n",
    "print(\"Sample of transformed data:\")\n",
    "display(full_data.head(5))\n",
    "\n",
    "print(\"\\nTransformed data info:\")\n",
    "full_data.info()\n",
    "\n",
    "print(\"\\nSummary statistics for numeric columns:\")\n",
    "display(full_data[['Quantity', 'UnitPrice', 'TotalAmount']].describe())"
   ]
  },
  {
   "cell_type": "code",
   "execution_count": 45,
   "id": "88ef8fa2",
   "metadata": {},
   "outputs": [
    {
     "name": "stdout",
     "output_type": "stream",
     "text": [
      "Saving transformed datasets\n",
      "Transform phase completed successfully\n",
      "Final dataset shape: (3, 13)\n"
     ]
    }
   ],
   "source": [
    "# Save transformed datasets\n",
    "print(\"Saving transformed datasets\")\n",
    "from pathlib import Path\n",
    "transformed_dir = Path('transformed')\n",
    "transformed_dir.mkdir(parents=True, exist_ok=True)\n",
    "full_data.to_csv(transformed_dir / 'transformed_full.csv', index=False)\n",
    "incremental_data.to_csv(transformed_dir / 'transformed_incremental.csv', index=False)\n",
    "\n",
    "print(\"Transform phase completed successfully\")\n",
    "print(f\"Final dataset shape: {full_data.shape}\")"
   ]
  }
 ],
 "metadata": {
  "kernelspec": {
   "display_name": "Python 3",
   "language": "python",
   "name": "python3"
  },
  "language_info": {
   "codemirror_mode": {
    "name": "ipython",
    "version": 3
   },
   "file_extension": ".py",
   "mimetype": "text/x-python",
   "name": "python",
   "nbconvert_exporter": "python",
   "pygments_lexer": "ipython3",
   "version": "3.11.9"
  }
 },
 "nbformat": 4,
 "nbformat_minor": 5
}
